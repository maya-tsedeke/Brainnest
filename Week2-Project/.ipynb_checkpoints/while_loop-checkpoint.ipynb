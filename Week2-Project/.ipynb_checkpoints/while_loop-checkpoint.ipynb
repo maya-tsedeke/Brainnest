{
 "cells": [
  {
   "cell_type": "markdown",
   "metadata": {},
   "source": [
    "1. Create a while loop that repeatedly takes user input and adds the input to a list until the user enters \"done\"."
   ]
  },
  {
   "cell_type": "code",
   "execution_count": 3,
   "metadata": {
    "pycharm": {
     "is_executing": true
    },
    "vscode": {
     "languageId": "plaintext"
    }
   },
   "outputs": [
    {
     "name": "stdout",
     "output_type": "stream",
     "text": [
      "Enter a value to add to the list (or 'done' to stop): gh\n",
      "Enter a value to add to the list (or 'done' to stop): 67\n",
      "Enter a value to add to the list (or 'done' to stop): 5ty\n",
      "Enter a value to add to the list (or 'done' to stop): 78\n",
      "Enter a value to add to the list (or 'done' to stop): hh\n",
      "Enter a value to add to the list (or 'done' to stop): 4\n",
      "Enter a value to add to the list (or 'done' to stop): done\n",
      "Final list: ['gh', '67', '5ty', '78', 'hh', '4']\n"
     ]
    }
   ],
   "source": [
    "_lists = []\n",
    "while True:\n",
    "    _inputs = input(\"Enter a value to add to the list (or 'done' to stop): \")\n",
    "    if _inputs == \"done\":\n",
    "        break\n",
    "    _lists.append(_inputs)\n",
    "\n",
    "print(\"Final list:\", _lists)\n"
   ]
  },
  {
   "cell_type": "markdown",
   "metadata": {},
   "source": [
    "2. Create a while loop that generates random numbers and adds them to a list until the sum of all numbers in the list is greater than 100."
   ]
  },
  {
   "cell_type": "code",
   "execution_count": 7,
   "metadata": {
    "vscode": {
     "languageId": "plaintext"
    }
   },
   "outputs": [
    {
     "name": "stdout",
     "output_type": "stream",
     "text": [
      "Random numbers: [8, 1, 9, 5, 4, 8, 10, 8, 8, 10, 6, 2, 3, 7, 8, 8]\n",
      "Sum of Random number: 105\n"
     ]
    }
   ],
   "source": [
    "import random\n",
    "\n",
    "random_num = []\n",
    "sum_nums = 0\n",
    "\n",
    "while sum_nums <= 100:\n",
    "    new_num = random.randint(1, 10)\n",
    "    random_num.append(new_num)\n",
    "    sum_nums += new_num\n",
    "\n",
    "print(\"Random numbers:\", random_num)\n",
    "print(\"Sum of Random number:\", sum_nums)"
   ]
  },
  {
   "cell_type": "markdown",
   "metadata": {},
   "source": [
    "3. Create a while loop that repeatedly takes user input and appends it to a list, but only if the input is a unique string."
   ]
  },
  {
   "cell_type": "code",
   "execution_count": 10,
   "metadata": {
    "vscode": {
     "languageId": "plaintext"
    }
   },
   "outputs": [
    {
     "name": "stdout",
     "output_type": "stream",
     "text": [
      "Enter a new item to add to the list (or 'done' to finish): d\n",
      "Enter a new item to add to the list (or 'done' to finish): d\n",
      "That item is already in the list. Please enter a unique item.\n",
      "Enter a new item to add to the list (or 'done' to finish): 3\n",
      "Enter a new item to add to the list (or 'done' to finish): 23\n",
      "Enter a new item to add to the list (or 'done' to finish): 45\n",
      "Enter a new item to add to the list (or 'done' to finish): 66\n",
      "Enter a new item to add to the list (or 'done' to finish): done\n",
      "The final list is: ['d', '3', '23', '45', '66']\n"
     ]
    }
   ],
   "source": [
    "_list = []\n",
    "while True:\n",
    "    new_items = input(\"Enter a new item to add to the list (or 'done' to finish): \")\n",
    "    if new_items == 'done':\n",
    "        break\n",
    "    elif new_items in _list:\n",
    "        print(\"That item is already in the list. Please enter a unique item.\")\n",
    "    else:\n",
    "        _list.append(new_items)\n",
    "        \n",
    "print(\"The final list is:\", _list)\n"
   ]
  },
  {
   "cell_type": "markdown",
   "metadata": {},
   "source": [
    "4. Create a while loop that repeatedly takes user input and appends it to a list, but only if the input is a number greater than 10."
   ]
  },
  {
   "cell_type": "code",
   "execution_count": 14,
   "metadata": {
    "vscode": {
     "languageId": "plaintext"
    }
   },
   "outputs": [
    {
     "name": "stdout",
     "output_type": "stream",
     "text": [
      "Enter a number greater than 10 (or 'done' to exit): 2\n",
      "Enter a number greater than 10 (or 'done' to exit): 101\n",
      "Enter a number greater than 10 (or 'done' to exit): 22\n",
      "Enter a number greater than 10 (or 'done' to exit): 23\n",
      "Enter a number greater than 10 (or 'done' to exit): 44\n",
      "Enter a number greater than 10 (or 'done' to exit): 4\n",
      "Enter a number greater than 10 (or 'done' to exit): 5\n",
      "Enter a number greater than 10 (or 'done' to exit): 6\n",
      "Enter a number greater than 10 (or 'done' to exit): exit\n",
      "Enter a number greater than 10 (or 'done' to exit): done\n",
      "List of numbers greater than 10: [101, 22, 23, 44]\n"
     ]
    }
   ],
   "source": [
    "_input = ''\n",
    "_list = []\n",
    "\n",
    "while _input != 'done':\n",
    "    _input = input(\"Enter a number greater than 10 (or 'done' to exit): \")\n",
    "    if _input.isnumeric() and int(_input) > 10:\n",
    "        _list.append(int(_input))\n",
    "        \n",
    "print(\"List of numbers greater than 10:\", _list)\n"
   ]
  },
  {
   "cell_type": "markdown",
   "metadata": {},
   "source": [
    "5. Create a while loop that repeatedly takes user input and keeps track of the highest number entered until the user enters \"done\"."
   ]
  },
  {
   "cell_type": "code",
   "execution_count": 16,
   "metadata": {
    "vscode": {
     "languageId": "plaintext"
    }
   },
   "outputs": [
    {
     "name": "stdout",
     "output_type": "stream",
     "text": [
      "Enter a number (or 'done' to exit): 4\n",
      "Enter a number (or 'done' to exit): 5\n",
      "Enter a number (or 'done' to exit): 3\n",
      "Enter a number (or 'done' to exit): 4\n",
      "Enter a number (or 'done' to exit): 5\n",
      "Enter a number (or 'done' to exit): 444\n",
      "Enter a number (or 'done' to exit): 455\n",
      "Enter a number (or 'done' to exit): 234\n",
      "Enter a number (or 'done' to exit): 543\n",
      "Enter a number (or 'done' to exit): done\n",
      "The highest number entered was: 543\n"
     ]
    }
   ],
   "source": [
    "highest_num = float('-inf')\n",
    "\n",
    "while True:\n",
    "    user_input = input(\"Enter a number (or 'done' to exit): \")\n",
    "    if user_input == \"done\":\n",
    "        break\n",
    "    try:\n",
    "        num = int(user_input)\n",
    "        if num > highest_num:\n",
    "            highest_num = num\n",
    "    except ValueError:\n",
    "        print(\"Invalid input. Please enter a number.\")\n",
    "\n",
    "if highest_num != float('-inf'):\n",
    "    print(\"The highest number entered was:\", highest_num)\n",
    "else:\n",
    "    print(\"No numbers were entered.\")\n"
   ]
  },
  {
   "cell_type": "code",
   "execution_count": null,
   "metadata": {},
   "outputs": [],
   "source": []
  }
 ],
 "metadata": {
  "kernelspec": {
   "display_name": "Python 3 (ipykernel)",
   "language": "python",
   "name": "python3"
  },
  "language_info": {
   "codemirror_mode": {
    "name": "ipython",
    "version": 3
   },
   "file_extension": ".py",
   "mimetype": "text/x-python",
   "name": "python",
   "nbconvert_exporter": "python",
   "pygments_lexer": "ipython3",
   "version": "3.9.13"
  }
 },
 "nbformat": 4,
 "nbformat_minor": 2
}
