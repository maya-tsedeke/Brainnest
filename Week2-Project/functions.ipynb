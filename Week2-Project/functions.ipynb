{
 "cells": [
  {
   "cell_type": "markdown",
   "metadata": {},
   "source": [
    "1. Write a program that takes a list of numbers and returns the largest number in the list."
   ]
  },
  {
   "cell_type": "code",
   "execution_count": 1,
   "metadata": {},
   "outputs": [
    {
     "name": "stdout",
     "output_type": "stream",
     "text": [
      "The largest number is: 9\n"
     ]
    }
   ],
   "source": [
    "numbers = [1, 2, 3, 4, 5, 6, 7, 8, 9]\n",
    "# your code here\n",
    "def find_largest(numbers):\n",
    "    largest = numbers[0]\n",
    "    for number in numbers:\n",
    "        if number > largest:\n",
    "            largest = number\n",
    "    return largest\n",
    "\n",
    "largest_number = find_largest(numbers)\n",
    "print(\"The largest number is:\", largest_number)\n"
   ]
  },
  {
   "cell_type": "markdown",
   "metadata": {},
   "source": [
    "2. Write a program that takes a string and returns the number of vowels in the string."
   ]
  },
  {
   "cell_type": "code",
   "execution_count": 5,
   "metadata": {},
   "outputs": [
    {
     "data": {
      "text/plain": [
       "3"
      ]
     },
     "execution_count": 5,
     "metadata": {},
     "output_type": "execute_result"
    }
   ],
   "source": [
    "string = \"Hello, world!\"\n",
    "# your code here\n",
    "def count_vowels(string):\n",
    "    vowels = 'aeiouAEIOU'\n",
    "    count = 0\n",
    "    for char in string:\n",
    "        if char in vowels:\n",
    "            count += 1\n",
    "    return count\n",
    "count_vowels(string)"
   ]
  },
  {
   "cell_type": "markdown",
   "metadata": {},
   "source": [
    "3. Write a program that takes a list of strings and returns a new list that contains only the strings that start with the letter 'a'."
   ]
  },
  {
   "cell_type": "code",
   "execution_count": 9,
   "metadata": {},
   "outputs": [
    {
     "name": "stdout",
     "output_type": "stream",
     "text": [
      "['apple']\n"
     ]
    }
   ],
   "source": [
    "strings = [\"apple\", \"banana\", \"cherry\", \"date\"]\n",
    "# your code here\n",
    "def strings_starting_with_a(lst):\n",
    "    result = []\n",
    "    for string in lst:\n",
    "        if string.startswith('a'):\n",
    "            result.append(string)\n",
    "    return result\n",
    "new_list = strings_starting_with_a(strings)\n",
    "print(new_list)  # Output: ['apple', 'apricot', 'avocado']"
   ]
  },
  {
   "cell_type": "markdown",
   "metadata": {},
   "source": [
    "4. Write a program that takes a sentence (string) and returns a dictionary with the count of each word in the sentence."
   ]
  },
  {
   "cell_type": "code",
   "execution_count": 12,
   "metadata": {},
   "outputs": [
    {
     "name": "stdout",
     "output_type": "stream",
     "text": [
      "{'this': 1, 'is': 1, 'a': 1, 'test': 1, 'sentence': 1}\n"
     ]
    }
   ],
   "source": [
    "sentence = \"this is a test sentence\"\n",
    "# your code here\n",
    "def word_count(sentence):\n",
    "    # Create an empty dictionary to hold the word counts\n",
    "    counts = {}\n",
    "    \n",
    "    # Split the sentence into a list of words\n",
    "    words = sentence.split()\n",
    "    \n",
    "    # Iterate through the words and update the counts dictionary\n",
    "    for word in words:\n",
    "        if word in counts:\n",
    "            counts[word] += 1\n",
    "        else:\n",
    "            counts[word] = 1\n",
    "    \n",
    "    return counts\n",
    "counts = word_count(sentence)\n",
    "print(counts)\n"
   ]
  },
  {
   "cell_type": "markdown",
   "metadata": {},
   "source": [
    "5. Write a program that takes two lists of numbers and returns a new list that contains only the numbers that are common to both lists."
   ]
  },
  {
   "cell_type": "code",
   "execution_count": 14,
   "metadata": {},
   "outputs": [
    {
     "name": "stdout",
     "output_type": "stream",
     "text": [
      "[2, 4, 6, 8]\n"
     ]
    }
   ],
   "source": [
    "list1 = [1, 2, 3, 4, 5, 6, 7, 8, 9]\n",
    "list2 = [2, 4, 6, 8, 10, 12, 14, 16, 18]\n",
    "# your code here\n",
    "def find_common_numbers(list1, list2):\n",
    "    \"\"\"\n",
    "    Takes two lists and returns a new list with only the numbers that are common to both lists.\n",
    "    \"\"\"\n",
    "    common_numbers = []\n",
    "    for number in list1:\n",
    "        if number in list2 and number not in common_numbers:\n",
    "            common_numbers.append(number)\n",
    "    return common_numbers\n",
    "\n",
    "common_numbers = find_common_numbers(list1, list2)\n",
    "print(common_numbers)  \n"
   ]
  },
  {
   "cell_type": "markdown",
   "metadata": {},
   "source": [
    "6. Write a program that takes a list of integers and returns a new list that contains only the prime numbers from the original list."
   ]
  },
  {
   "cell_type": "code",
   "execution_count": 15,
   "metadata": {},
   "outputs": [
    {
     "name": "stdout",
     "output_type": "stream",
     "text": [
      "[2, 3, 5, 7, 11, 13]\n"
     ]
    }
   ],
   "source": [
    "numbers = [1, 2, 3, 4, 5, 6, 7, 8, 9, 10, 11, 12, 13, 14, 15]\n",
    "# your code here\n",
    "def is_prime(n):\n",
    "    \"\"\"\n",
    "    Check if a number is prime.\n",
    "    \"\"\"\n",
    "    if n < 2:\n",
    "        return False\n",
    "    for i in range(2, int(n ** 0.5) + 1):\n",
    "        if n % i == 0:\n",
    "            return False\n",
    "    return True\n",
    "\n",
    "def get_primes(numbers):\n",
    "    \"\"\"\n",
    "    Get a list of prime numbers from a list of integers.\n",
    "    \"\"\"\n",
    "    primes = []\n",
    "    for n in numbers:\n",
    "        if is_prime(n):\n",
    "            primes.append(n)\n",
    "    return primes\n",
    "\n",
    "\n",
    "primes = get_primes(numbers)\n",
    "print(primes)\n"
   ]
  },
  {
   "cell_type": "markdown",
   "metadata": {},
   "source": [
    "7. Write a program that takes a string and returns the number of words in the string."
   ]
  },
  {
   "cell_type": "code",
   "execution_count": 17,
   "metadata": {},
   "outputs": [
    {
     "name": "stdout",
     "output_type": "stream",
     "text": [
      "There are 7 words in the string.\n"
     ]
    }
   ],
   "source": [
    "string = \"Write a program that takes a string\"\n",
    "# your code here\n",
    "def count_words(string):\n",
    "    words = string.split()\n",
    "    return len(words)\n",
    "\n",
    "word_count = count_words(string)\n",
    "print(\"There are\", word_count, \"words in the string.\")\n"
   ]
  },
  {
   "cell_type": "markdown",
   "metadata": {},
   "source": [
    "8. Write a program that takes a list of strings and returns a new list that contains only the strings that are palindrome."
   ]
  },
  {
   "cell_type": "code",
   "execution_count": 21,
   "metadata": {},
   "outputs": [
    {
     "name": "stdout",
     "output_type": "stream",
     "text": [
      "['W', 'r', 'i', 't', 'e', ' ', 'a', ' ', 'p', 'r', 'o', 'g', 'r', 'a', 'm', ' ', 't', 'h', 'a', 't', ' ', 't', 'a', 'k', 'e', 's', ' ', 'a', ' ', 's', 't', 'r', 'i', 'n', 'g']\n"
     ]
    }
   ],
   "source": [
    "strings = [\"madam\", \"level\", \"civic\"]\n",
    "# your code here\n",
    "def is_palindrome(strings):\n",
    "    return strings == strings[::-1]\n",
    "\n",
    "def filter_palindromes(strings):\n",
    "\n",
    "    return [strings for strings in strings if is_palindrome(strings)]\n",
    "\n",
    "\n",
    "palindromes = filter_palindromes(string)\n",
    "print(palindromes) \n"
   ]
  },
  {
   "cell_type": "markdown",
   "metadata": {},
   "source": [
    "9. Write a program that takes a sentence (string) and returns a tuple of the most frequent word and its frequency."
   ]
  },
  {
   "cell_type": "code",
   "execution_count": 23,
   "metadata": {},
   "outputs": [
    {
     "name": "stdout",
     "output_type": "stream",
     "text": [
      "('test', 3)\n"
     ]
    }
   ],
   "source": [
    "sentence = \"this is a test sentence to test the test\"\n",
    "# your code here\n",
    "def most_frequent_word(sentence):\n",
    "    # split the sentence into words\n",
    "    words = sentence.split()\n",
    "\n",
    "    # create a dictionary to count the frequency of each word\n",
    "    word_count = {}\n",
    "    for word in words:\n",
    "        if word in word_count:\n",
    "            word_count[word] += 1\n",
    "        else:\n",
    "            word_count[word] = 1\n",
    "\n",
    "    # find the most frequent word and its frequency\n",
    "    max_word = ''\n",
    "    max_count = 0\n",
    "    for word, count in word_count.items():\n",
    "        if count > max_count:\n",
    "            max_word = word\n",
    "            max_count = count\n",
    "\n",
    "    # return the tuple of the most frequent word and its frequency\n",
    "    return (max_word, max_count)\n",
    "result = most_frequent_word(sentence)\n",
    "print(result)  # ('the', 2)\n",
    "\n"
   ]
  },
  {
   "cell_type": "code",
   "execution_count": null,
   "metadata": {},
   "outputs": [],
   "source": []
  }
 ],
 "metadata": {
  "kernelspec": {
   "display_name": "Python 3 (ipykernel)",
   "language": "python",
   "name": "python3"
  },
  "language_info": {
   "codemirror_mode": {
    "name": "ipython",
    "version": 3
   },
   "file_extension": ".py",
   "mimetype": "text/x-python",
   "name": "python",
   "nbconvert_exporter": "python",
   "pygments_lexer": "ipython3",
   "version": "3.9.13"
  },
  "vscode": {
   "interpreter": {
    "hash": "f7a5be651532581cb44625d52e18aa1d390cab54bc6b51099d8c30bea9b68219"
   }
  }
 },
 "nbformat": 4,
 "nbformat_minor": 2
}
